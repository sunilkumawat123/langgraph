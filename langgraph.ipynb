{
 "cells": [
  {
   "cell_type": "code",
   "execution_count": 38,
   "id": "c3fcc5c0",
   "metadata": {},
   "outputs": [],
   "source": [
    "from typing import Annotated \n",
    "from typing_extensions import TypedDict \n",
    "from langgraph.graph import StateGraph , START , END \n",
    "from langgraph.graph.message import add_messages "
   ]
  },
  {
   "cell_type": "code",
   "execution_count": 39,
   "id": "b41f8dad",
   "metadata": {},
   "outputs": [],
   "source": [
    "class State(TypedDict):\n",
    "    messages:Annotated[list, add_messages] "
   ]
  },
  {
   "cell_type": "code",
   "execution_count": 40,
   "id": "b4cbe492",
   "metadata": {},
   "outputs": [
    {
     "data": {
      "text/plain": [
       "True"
      ]
     },
     "execution_count": 40,
     "metadata": {},
     "output_type": "execute_result"
    }
   ],
   "source": [
    "import os\n",
    "from dotenv import load_dotenv\n",
    "load_dotenv()"
   ]
  },
  {
   "cell_type": "code",
   "execution_count": 41,
   "id": "f582383c",
   "metadata": {},
   "outputs": [],
   "source": [
    "from langchain_groq import ChatGroq \n",
    "from langchain.chat_models import init_chat_model \n",
    "llm = ChatGroq(model = \"llama3-8b-8192\") "
   ]
  },
  {
   "cell_type": "code",
   "execution_count": 42,
   "id": "537dfb08",
   "metadata": {},
   "outputs": [
    {
     "data": {
      "text/plain": [
       "ChatGroq(client=<groq.resources.chat.completions.Completions object at 0x0000018F95D65160>, async_client=<groq.resources.chat.completions.AsyncCompletions object at 0x0000018F95D52AB0>, model_name='llama3-8b-8192', model_kwargs={}, groq_api_key=SecretStr('**********'))"
      ]
     },
     "execution_count": 42,
     "metadata": {},
     "output_type": "execute_result"
    }
   ],
   "source": [
    "llm"
   ]
  },
  {
   "cell_type": "code",
   "execution_count": 43,
   "id": "16f354b7",
   "metadata": {},
   "outputs": [
    {
     "data": {
      "text/plain": [
       "ChatGroq(client=<groq.resources.chat.completions.Completions object at 0x0000018F95D6C230>, async_client=<groq.resources.chat.completions.AsyncCompletions object at 0x0000018F95D6E960>, model_name='llama3-8b-8192', model_kwargs={}, groq_api_key=SecretStr('**********'))"
      ]
     },
     "execution_count": 43,
     "metadata": {},
     "output_type": "execute_result"
    }
   ],
   "source": [
    "llm=init_chat_model(\"groq:llama3-8b-8192\")\n",
    "llm"
   ]
  },
  {
   "cell_type": "code",
   "execution_count": 44,
   "id": "908112aa",
   "metadata": {},
   "outputs": [],
   "source": [
    "### Node \n",
    "def chatbot(state:State):\n",
    "    return {\"messages\":[llm.invoke(state[\"messages\"])]} "
   ]
  },
  {
   "cell_type": "code",
   "execution_count": 45,
   "id": "9600e946",
   "metadata": {},
   "outputs": [],
   "source": [
    "graph_builder=StateGraph(State)\n",
    "\n",
    "## Adding node\n",
    "graph_builder.add_node(\"llmchatbot\",chatbot)\n",
    "## Adding Edges\n",
    "graph_builder.add_edge(START,\"llmchatbot\")\n",
    "graph_builder.add_edge(\"llmchatbot\",END)\n",
    "\n",
    "## compile the graph\n",
    "graph=graph_builder.compile()"
   ]
  },
  {
   "cell_type": "code",
   "execution_count": 46,
   "id": "07470522",
   "metadata": {},
   "outputs": [],
   "source": [
    "graph_builder = StateGraph(State) \n",
    "##Add Node \n",
    "graph_builder.add_node(\"llmchatbot\" , chatbot) \n",
    "##Add Edges \n",
    "graph_builder.add_edge(START, \"llmchatbot\")\n",
    "graph_builder.add_edge(\"llmchatbot\" , END) \n",
    "##compile the graph \n",
    "graph = graph_builder.compile() "
   ]
  },
  {
   "cell_type": "code",
   "execution_count": 47,
   "id": "4ec3ad8a",
   "metadata": {},
   "outputs": [
    {
     "data": {
      "image/png": "[encoded data removed]",
      "text/plain": [
       "<langgraph.graph.state.CompiledStateGraph object at 0x0000018F95D6EEA0>"
      ]
     },
     "execution_count": 47,
     "metadata": {},
     "output_type": "execute_result"
    }
   ],
   "source": [
    "graph"
   ]
  },
  {
   "cell_type": "code",
   "execution_count": 48,
   "id": "898abc15",
   "metadata": {},
   "outputs": [],
   "source": [
    "response=graph.invoke({\"messages\":\"Hi\"})"
   ]
  },
  {
   "cell_type": "code",
   "execution_count": 49,
   "id": "f88136de",
   "metadata": {},
   "outputs": [
    {
     "data": {
      "text/plain": [
       "{'messages': [HumanMessage(content='Hi', additional_kwargs={}, response_metadata={}, id='a7ca0af7-9689-499e-8afc-829d9544a1bd'),\n",
       "  AIMessage(content=\"Hi! It's nice to meet you. Is there something I can help you with or would you like to chat?\", additional_kwargs={}, response_metadata={'token_usage': {'completion_tokens': 25, 'prompt_tokens': 11, 'total_tokens': 36, 'completion_time': 0.045410753, 'prompt_time': 0.009482798, 'queue_time': 0.308730631, 'total_time': 0.054893551}, 'model_name': 'llama3-8b-8192', 'system_fingerprint': 'fp_8b7c3a83f7', 'finish_reason': 'stop', 'logprobs': None}, id='run--768076ce-4185-4505-88ba-e739e0987467-0', usage_metadata={'input_tokens': 11, 'output_tokens': 25, 'total_tokens': 36})]}"
      ]
     },
     "execution_count": 49,
     "metadata": {},
     "output_type": "execute_result"
    }
   ],
   "source": [
    "response"
   ]
  },
  {
   "cell_type": "code",
   "execution_count": 50,
   "id": "fa92e23c",
   "metadata": {},
   "outputs": [
    {
     "data": {
      "text/plain": [
       "\"Hi! It's nice to meet you. Is there something I can help you with or would you like to chat?\""
      ]
     },
     "execution_count": 50,
     "metadata": {},
     "output_type": "execute_result"
    }
   ],
   "source": [
    "response[\"messages\"][-1].content"
   ]
  },
  {
   "cell_type": "code",
   "execution_count": 51,
   "id": "774c530b",
   "metadata": {},
   "outputs": [
    {
     "name": "stdout",
     "output_type": "stream",
     "text": [
      "Hi! I'm just a language model, so I don't have feelings or emotions like humans do, but I'm functioning properly and ready to help with any questions or tasks you may have! How about you? How's your day going?\n"
     ]
    }
   ],
   "source": [
    "for event in graph.stream({\"messages\":\"Hi How are you?\"}):\n",
    "    for value in event.values():\n",
    "        print(value[\"messages\"][-1].content)"
   ]
  },
  {
   "cell_type": "markdown",
   "id": "383c7d38",
   "metadata": {},
   "source": [
    "Chatbot with tool"
   ]
  },
  {
   "cell_type": "code",
   "execution_count": 52,
   "id": "33308f7f",
   "metadata": {},
   "outputs": [
    {
     "data": {
      "text/plain": [
       "{'query': 'What is langgraph',\n",
       " 'follow_up_questions': None,\n",
       " 'answer': None,\n",
       " 'images': [],\n",
       " 'results': [{'title': 'What is LangGraph? - IBM',\n",
       "   'url': 'https://www.ibm.com/think/topics/langgraph',\n",
       "   'content': 'LangGraph, created by LangChain, is an open source AI agent framework designed to build, deploy and manage complex generative AI agent workflows. At its core, LangGraph uses the power of graph-based architectures to model and manage the intricate relationships between various components of an AI agent workflow. LangGraph illuminates the processes within an AI workflow, allowing full transparency of the agent’s state. By combining these technologies with a set of APIs and tools, LangGraph provides users with a versatile platform for developing AI solutions and workflows including chatbots, state graphs and other agent-based systems. Nodes: In LangGraph, nodes represent individual components or agents within an AI workflow. LangGraph uses enhanced decision-making by modeling complex relationships between nodes, which means it uses AI agents to analyze their past actions and feedback.',\n",
       "   'score': 0.94401723,\n",
       "   'raw_content': None},\n",
       "  {'title': 'What is LangGraph? - GeeksforGeeks',\n",
       "   'url': 'https://www.geeksforgeeks.org/machine-learning/what-is-langgraph/',\n",
       "   'content': 'LangGraph is a Python library that helps you build applications like chatbots or AI agents by organizing their logic step-by-step using state machine model. This step configures your Gemini API key and then we create a simple function ask_gemini that takes user input, sends it to the Gemini model and returns the AI-generated response. Creates a state structure with three fields: question, classification and response which flows through the LangGraph. import matplotlib.pyplot as plt from langgraph.graph import StateGraph\\u200bbuilder = StateGraph(GraphState)builder.add_node(\"classify\", classify)builder.add_node(\"respond\", respond)builder.set_entry_point(\"classify\")builder.add_edge(\"classify\", \"respond\")builder.set_finish_point(\"respond\")app = builder.compile()\\u200bdef visualize_workflow(builder): G = nx.DiGraph()\\u200b for node in builder.nodes: G.add_node(node) for edge in builder.edges: G.add_edge(edge[0], edge[1])\\u200b pos = nx.spring_layout(G) nx.draw(G, pos, with_labels=True, node_size=3000, node_color=\"skyblue\", font_size=12, font_weight=\"bold\", arrows=True)  plt.title(\"Langchain Workflow Visualization\") plt.show()\\u200bvisualize_workflow(builder)',\n",
       "   'score': 0.91137725,\n",
       "   'raw_content': None}],\n",
       " 'response_time': 1.39}"
      ]
     },
     "execution_count": 52,
     "metadata": {},
     "output_type": "execute_result"
    }
   ],
   "source": [
    "from langchain_tavily import TavilySearch\n",
    "tool=TavilySearch(max_results=2)\n",
    "tool.invoke(\"What is langgraph\")"
   ]
  },
  {
   "cell_type": "code",
   "execution_count": 53,
   "id": "263140c5",
   "metadata": {},
   "outputs": [
    {
     "data": {
      "text/plain": [
       "{'query': 'What is Tesla?',\n",
       " 'follow_up_questions': None,\n",
       " 'answer': None,\n",
       " 'images': [],\n",
       " 'results': [{'title': 'Electric Cars, Solar & Clean Energy | Tesla',\n",
       "   'url': 'https://www.tesla.com/about',\n",
       "   'content': 'About | Tesla We’re building a world powered by solar energy, running on batteries and transported by electric vehicles. Our energy generation and storage products work together with our electric vehicles to amplify their impact. Our energy generation and storage products work together with our electric vehicles to amplify their impact. Image 2: Home powered by Tesla energy products Image 4: Tesla electric vehicle Image 5: Home powered by Tesla energy products Image 7: Tesla electric vehicle After safety, our goal is to make every Tesla the most fun you could possibly have in a vehicle. After safety, our goal is to make every Tesla the most fun you could possibly have in a vehicle. The Tesla Team',\n",
       "   'score': 0.37236878,\n",
       "   'raw_content': None},\n",
       "  {'title': 'Tesla, Inc. | History, Cars, Elon Musk, & Facts | Britannica Money',\n",
       "   'url': 'https://www.britannica.com/money/Tesla-Motors',\n",
       "   'content': '*   Tesla under Musk: New models, battery technology, and solar energy  *   Tesla under Musk: New models, battery technology, and solar energy  In 2008 Tesla Motors released its first car, the completely electric Roadster. Tesla under Musk: New models, battery technology, and solar energy Unlike the Roadster, which carried its battery system at the back of the car, the Model S had its underneath the floor, which gave extra storage space in back and improved handling because of its low center of gravity; this battery placement was used on later Tesla models. Image 9: Tesla Model S 85 Performance car at a charging station; red electric automobile. Image 11: Tesla Model Y',\n",
       "   'score': 0.30719224,\n",
       "   'raw_content': None},\n",
       "  {'title': 'Tesla, Inc. - Wikipedia',\n",
       "   'url': 'https://en.wikipedia.org/wiki/Tesla,_Inc.',\n",
       "   'content': '* Czinger * Chenowth Racing Products * Environmental Performance Vehicles * Equus Automotive * Forest River \"Forest River (company)\") * Champion Bus * Collins * ElDorado National \"ElDorado (bus manufacturer)\") * Glaval Bus * Starcraft Bus * **Ford** * Lincoln * SVT * General Dynamics Land Systems * **General Motors** * Buick * Cadillac * Cadillac V series * Chevrolet * Chevrolet Performance * GMC \"GMC (marque)\") * Gillig * Growler Manufacturing and Engineering * Harley-Davidson * Ingersoll Rand * Club Car * HDT Global * HME * International Motors * IC Bus * John Deere * Karma Automotive * Laffite * Lenco Industries * Lockheed Martin * Lucid Motors * Mack Trucks * Millennium Luxury Coaches * Morgan Olson * Motor Coach Industries * Oshkosh * Pierce * Paccar * Kenworth * Peterbilt * Panoz * Polaris Industries * Global Electric Motorcars * Indian * Victory * REV Group * Fleetwood * Holiday Rambler * Laymor * Wheeled Coach * Rezvani Motors * Rivian * Scuderia Cameron Glickenhaus * SSC North America * Superformance * Telo * Tesla * Textron * Arctic Cat * E-Z-Go * Cushman \"Cushman (company)\") * Trans Tech * Ultimaster * VIA Motors * VLF Automotive * Xos, Inc.',\n",
       "   'score': 0.25995055,\n",
       "   'raw_content': None}],\n",
       " 'response_time': 1.6}"
      ]
     },
     "execution_count": 53,
     "metadata": {},
     "output_type": "execute_result"
    }
   ],
   "source": [
    "from langchain_tavily import TavilySearch \n",
    "tool = TavilySearch(max_results = 3) \n",
    "tool.invoke(\"What is Tesla?\") "
   ]
  },
  {
   "cell_type": "code",
   "execution_count": 54,
   "id": "542af4cb",
   "metadata": {},
   "outputs": [],
   "source": [
    "##Custom functions \n",
    "def addition(a:int, b:int):\n",
    "    \"\"\"Add a and b\n",
    "    Args:\n",
    "    a(int): first int \n",
    "    b(int): second int \n",
    "\n",
    "    Returns:\n",
    "    int: output int \n",
    "    \"\"\"\n",
    "    return a + b \n"
   ]
  },
  {
   "cell_type": "code",
   "execution_count": 55,
   "id": "27598379",
   "metadata": {},
   "outputs": [],
   "source": [
    "tools=[tool,addition]"
   ]
  },
  {
   "cell_type": "code",
   "execution_count": 56,
   "id": "f417db2d",
   "metadata": {},
   "outputs": [],
   "source": [
    "llm_with_tool=llm.bind_tools(tools)"
   ]
  },
  {
   "cell_type": "code",
   "execution_count": 57,
   "id": "43a1b6ee",
   "metadata": {},
   "outputs": [
    {
     "data": {
      "text/plain": [
       "RunnableBinding(bound=ChatGroq(client=<groq.resources.chat.completions.Completions object at 0x0000018F95D6C230>, async_client=<groq.resources.chat.completions.AsyncCompletions object at 0x0000018F95D6E960>, model_name='llama3-8b-8192', model_kwargs={}, groq_api_key=SecretStr('**********')), kwargs={'tools': [{'type': 'function', 'function': {'name': 'tavily_search', 'description': 'A search engine optimized for comprehensive, accurate, and trusted results. Useful for when you need to answer questions about current events. It not only retrieves URLs and snippets, but offers advanced search depths, domain management, time range filters, and image search, this tool delivers real-time, accurate, and citation-backed results.Input should be a search query.', 'parameters': {'properties': {'query': {'description': 'Search query to look up', 'type': 'string'}, 'include_domains': {'anyOf': [{'items': {'type': 'string'}, 'type': 'array'}, {'type': 'null'}], 'default': [], 'description': 'A list of domains to restrict search results to.\\n\\n        Use this parameter when:\\n        1. The user explicitly requests information from specific websites (e.g., \"Find climate data from nasa.gov\")\\n        2. The user mentions an organization or company without specifying the domain (e.g., \"Find information about iPhones from Apple\")\\n\\n        In both cases, you should determine the appropriate domains (e.g., [\"nasa.gov\"] or [\"apple.com\"]) and set this parameter.\\n\\n        Results will ONLY come from the specified domains - no other sources will be included.\\n        Default is None (no domain restriction).\\n        '}, 'exclude_domains': {'anyOf': [{'items': {'type': 'string'}, 'type': 'array'}, {'type': 'null'}], 'default': [], 'description': 'A list of domains to exclude from search results.\\n\\n        Use this parameter when:\\n        1. The user explicitly requests to avoid certain websites (e.g., \"Find information about climate change but not from twitter.com\")\\n        2. The user mentions not wanting results from specific organizations without naming the domain (e.g., \"Find phone reviews but nothing from Apple\")\\n\\n        In both cases, you should determine the appropriate domains to exclude (e.g., [\"twitter.com\"] or [\"apple.com\"]) and set this parameter.\\n\\n        Results will filter out all content from the specified domains.\\n        Default is None (no domain exclusion).\\n        '}, 'search_depth': {'anyOf': [{'enum': ['basic', 'advanced'], 'type': 'string'}, {'type': 'null'}], 'default': 'basic', 'description': 'Controls search thoroughness and result comprehensiveness.\\n    \\n        Use \"basic\" for simple queries requiring quick, straightforward answers.\\n        \\n        Use \"advanced\" (default) for complex queries, specialized topics, \\n        rare information, or when in-depth analysis is needed.\\n        '}, 'include_images': {'anyOf': [{'type': 'boolean'}, {'type': 'null'}], 'default': False, 'description': 'Determines if the search returns relevant images along with text results.\\n   \\n        Set to True when the user explicitly requests visuals or when images would \\n        significantly enhance understanding (e.g., \"Show me what black holes look like,\" \\n        \"Find pictures of Renaissance art\").\\n        \\n        Leave as False (default) for most informational queries where text is sufficient.\\n        '}, 'time_range': {'anyOf': [{'enum': ['day', 'week', 'month', 'year'], 'type': 'string'}, {'type': 'null'}], 'default': None, 'description': 'Limits results to content published within a specific timeframe.\\n        \\n        ONLY set this when the user explicitly mentions a time period \\n        (e.g., \"latest AI news,\" \"articles from last week\").\\n        \\n        For less popular or niche topics, use broader time ranges \\n        (\"month\" or \"year\") to ensure sufficient relevant results.\\n   \\n        Options: \"day\" (24h), \"week\" (7d), \"month\" (30d), \"year\" (365d).\\n        \\n        Default is None.\\n        '}, 'topic': {'anyOf': [{'enum': ['general', 'news', 'finance'], 'type': 'string'}, {'type': 'null'}], 'default': 'general', 'description': 'Specifies search category for optimized results.\\n   \\n        Use \"general\" (default) for most queries, INCLUDING those with terms like \\n        \"latest,\" \"newest,\" or \"recent\" when referring to general information.\\n\\n        Use \"finance\" for markets, investments, economic data, or financial news.\\n\\n        Use \"news\" ONLY for politics, sports, or major current events covered by \\n        mainstream media - NOT simply because a query asks for \"new\" information.\\n        '}}, 'required': ['query'], 'type': 'object'}}}, {'type': 'function', 'function': {'name': 'addition', 'description': 'Add a and b\\nArgs:\\na(int): first int \\nb(int): second int ', 'parameters': {'properties': {'a': {'type': 'integer'}, 'b': {'type': 'integer'}}, 'required': ['a', 'b'], 'type': 'object'}}}]}, config={}, config_factories=[])"
      ]
     },
     "execution_count": 57,
     "metadata": {},
     "output_type": "execute_result"
    }
   ],
   "source": [
    "llm_with_tool"
   ]
  },
  {
   "cell_type": "code",
   "execution_count": 58,
   "id": "4e4838df",
   "metadata": {},
   "outputs": [
    {
     "data": {
      "image/png": "[encoded data removed]",
      "text/plain": [
       "<IPython.core.display.Image object>"
      ]
     },
     "metadata": {},
     "output_type": "display_data"
    }
   ],
   "source": [
    "## Stategraph\n",
    "from langgraph.graph import StateGraph,START,END\n",
    "from langgraph.prebuilt import ToolNode\n",
    "from langgraph.prebuilt import tools_condition\n",
    "\n",
    "## Node definition\n",
    "def tool_calling_llm(state:State):\n",
    "    return {\"messages\":[llm_with_tool.invoke(state[\"messages\"])]}\n",
    "\n",
    "## Grpah\n",
    "builder=StateGraph(State)\n",
    "builder.add_node(\"tool_calling_llm\",tool_calling_llm)\n",
    "builder.add_node(\"tools\",ToolNode(tools))\n",
    "\n",
    "## Add Edges\n",
    "builder.add_edge(START, \"tool_calling_llm\")\n",
    "builder.add_conditional_edges(\n",
    "    \"tool_calling_llm\",\n",
    "    # If the latest message (result) from assistant is a tool call -> tools_condition routes to tools\n",
    "    # If the latest message (result) from assistant is a not a tool call -> tools_condition routes to END\n",
    "    tools_condition\n",
    ")\n",
    "builder.add_edge(\"tools\",END)\n",
    "\n",
    "## compile the graph\n",
    "graph=builder.compile()\n",
    "\n",
    "from IPython.display import Image, display\n",
    "display(Image(graph.get_graph().draw_mermaid_png()))"
   ]
  },
  {
   "cell_type": "code",
   "execution_count": 59,
   "id": "ef761c0b",
   "metadata": {},
   "outputs": [],
   "source": [
    "response = graph.invoke({\"messages\":\"What is the recent or latesr news in Jaipur?\"})"
   ]
  },
  {
   "cell_type": "code",
   "execution_count": 60,
   "id": "333efdc1",
   "metadata": {},
   "outputs": [
    {
     "data": {
      "text/plain": [
       "'{\"query\": \"latest news Jaipur\", \"follow_up_questions\": null, \"answer\": null, \"images\": [], \"results\": [{\"url\": \"https://www.face2news.com/news/101303-agriculture-minister-meena-raids-fertilizer-warehouse-in-suratgarh.aspx\", \"title\": \"AGRICULTURE MINISTER MEENA RAIDS FERTILIZER WAREHOUSE IN SURATGARH - Face2News\", \"score\": 0.46832922, \"published_date\": \"Tue, 24 Jun 2025 05:02:00 GMT\", \"content\": \"• CM ISSUES STRICT DIRECTIVES TO CURB ILLEGAL MINING, CCTV SURVEILLANCE TO BE ENSURED IN MINING AREAS • WORLD WALK IMMIGRATION CONSULTANT OWNER, OTHERS BOOKED ON CHEATING 12.23 LAKH FROM GURDASPUR RESIDENT FOR NOT SENDING ABROAD • FARMERS ORGANISED A “SUBUDDHI YAGYA” AT MAHARAJA GANGA SINGH MEMORIAL NEAR GANG CANAL’S SHIVPUR HEADWORKS. • AGRICULTURE MINISTER MEENA RAIDS FERTILIZER WAREHOUSE IN SURATGARH • KAUSHIK’S TON LIFTS LEISURE ZONE • PETROL DEALERS RAISE CONCERNS OVER ALLEGED HARASSMENT [...] TANTIA DENTAL COLLEGE GRANTED RECOGNITIONHUNDRED DAUGHTERS BECOME BRAHMA KUMARISSAPTA SHAKTI COMMAND COMMEMORATES 11TH INTERNATIONAL DAY OF YOGASAMPLES OF MANY HIMACHAL DRUG COMPANIES FAILED, ORDERS ISSUED TO RECALL STOCK FROM MARKETDELHI CRIME BRANCH BUSTED FAKE DEGREE RACKET. FIVE ARRESTED WITH HUNDREDS OF FAKE DOCUMENTS RECOVEREDCBI SUCCESSFULLY COORDINATES RETURN OF FAKE CURRENCY CASE ACCUSED MOIDEENABBA UMMER BEARY FROM UAECBI CRACKS DOWN ON RS. 183 CRORE FAKE BANK GUARANTEE SCAM; ARRESTS\", \"raw_content\": null}, {\"url\": \"https://www.shiksha.com/news/science-rajasthan-jet-2025-admit-card-live-update-blogId-203790\", \"title\": \"Rajasthan JET 2025 Admit Card (OUT) Live Update: Exam on June 29, JET hall ticket link here - Shiksha\", \"score\": 0.26093096, \"published_date\": \"Tue, 24 Jun 2025 05:53:00 GMT\", \"content\": \"Damini AggarwalJun 24, 2025\\\\n\\\\nImage 15: TS LAWCET, PGLCET 2025 Result & Fina\\\\n\\\\n### UPTAC Counselling 2025 Registration Ends on June 30; Check Complete Counselling Schedule Here\\\\n\\\\nSanjana SurbhiJun 24, 2025\\\\n\\\\nImage 16: UPTAC Counselling 2025 Registration \\\\n\\\\n### LIVE BITSAT 2025 June 24 Exam Live Updates: Slot 1 (STARTS), Check Paper Analysis, Difficulty Level Here\\\\n\\\\nUPASANA PRADHANJun 24, 2025\\\\n\\\\nImage 17: BITSAT 2025 June 24 Exam Live Update\\\\n\\\\n1 Comment \\\\n\\\\nView all News & UpdatesImage 18: arrow [...] Ishita ChauhanJun 21, 2025\\\\n\\\\nImage 10: Rajasthan JET 2025 Admit Card to be \\\\n\\\\n### Rajasthan JET 2025 Application Window Closing Tomorrow: How to Apply and Other Details\\\\n\\\\nIshita ChauhanMay 27, 2025\\\\n\\\\nImage 11: Rajasthan JET 2025 Application Windo\\\\n\\\\n### Rajasthan JET 2025 Registration Begins Today: Check Important Dates and Complete Schedule\\\\n\\\\nIshita ChauhanApr 30, 2025\\\\n\\\\nImage 12: Rajasthan JET 2025 Registration Begi\\\\n\\\\n1 Comment \\\\n\\\\nLatest News\\\\n----------- [...] Report;)\\\\n\\\\n- [x] \\\\n\\\\nRohit Kumar\\\\n\\\\nReply to Rohit kumar\\\\n\\\\nN\\\\n\\\\nNeeraj Meena\\\\n4 hours ago\\\\n\\\\nReport;)\\\\n\\\\n- [x] \\\\n\\\\nGangapur city\\\\n\\\\nReply to Neeraj Meena\\\\n\\\\nR\\\\n\\\\nRajkumar Meena\\\\n4 hours ago\\\\n\\\\nReport;)\\\\n\\\\n- [x] \\\\n\\\\nRajkumar meena\\\\n\\\\nRelated News\\\\n------------\\\\n\\\\n### Rajasthan JET 2025 Admit Card Out!: Download Link Available\\\\n\\\\nIshita ChauhanJun 24, 2025\\\\n\\\\nImage 9: Rajasthan JET 2025 Admit Card Out!: \\\\n\\\\n### Rajasthan JET 2025 Admit Card to be Released on June 24: Check Steps to Download and Other Details\", \"raw_content\": null}, {\"url\": \"https://www.moneycontrol.com/education/rajasthan-jet-admit-card-2025-released-at-jetskrau2025-com-exam-on-june-29-jet-hall-ticket-link-here-article-13167770.html\", \"title\": \"Rajasthan JET Admit Card 2025 released at jetskrau2025.com: Exam on June 29, JET hall ticket link here - Moneycontrol\", \"score\": 0.20774499, \"published_date\": \"Tue, 24 Jun 2025 04:32:21 GMT\", \"content\": \"Home Loans up to 50 Lakhs Credit Cards Lifetime Free Finance TrackerNew Fixed Deposits Fixed Deposit Comparison Fixed Income\\\\n\\\\n##### Mutual Funds\\\\n\\\\nHome MC 30 Top Ranked Funds ETFs Mutual Fund Screener\\\\n\\\\n##### Tools\\\\n\\\\nIncome Tax Calculator EMI Calculator Retirement Planning Gratuity Calculator\\\\n\\\\n##### Community\\\\n\\\\nStock Markets\\\\n\\\\n##### Network 18 Sites\\\\n\\\\nNews18 Firstpost CNBC TV18 News18 Hindi Cricketnext Overdrive\\\\n\\\\n##### Quick Links [...] Rajni Pandey\\\\n\\\\nDiscover the latest Business News, Budget 2025 News, Sensex, and Nifty updates. Obtain Personal Finance insights, tax queries, and expert opinions on Moneycontrol or download the Moneycontrol App to stay updated!\\\\n\\\\n### Trending news\\\\n\\\\n\\'Google creates stress, God releases it\\': IIT batchmate-turned monk on meeting Sundar Pichai\\\\nmoneycontrol\\\\nFacebook\\\\ntwitter\\\\ninstagram\\\\nlinkedin\\\\ntelegram\\\\nyoutube\\\\n\\\\n##### Trending Topics\", \"raw_content\": null}], \"response_time\": 1.28}'"
      ]
     },
     "execution_count": 60,
     "metadata": {},
     "output_type": "execute_result"
    }
   ],
   "source": [
    "response['messages'][-1].content"
   ]
  },
  {
   "cell_type": "code",
   "execution_count": 61,
   "id": "84e66bcb",
   "metadata": {},
   "outputs": [
    {
     "name": "stdout",
     "output_type": "stream",
     "text": [
      "================================\u001b[1m Human Message \u001b[0m=================================\n",
      "\n",
      "What is the recent or latesr news in Jaipur?\n",
      "==================================\u001b[1m Ai Message \u001b[0m==================================\n",
      "Tool Calls:\n",
      "  tavily_search (c0ajqr5p8)\n",
      " Call ID: c0ajqr5p8\n",
      "  Args:\n",
      "    query: latest news Jaipur\n",
      "    search_depth: advanced\n",
      "    time_range: day\n",
      "    topic: news\n",
      "=================================\u001b[1m Tool Message \u001b[0m=================================\n",
      "Name: tavily_search\n",
      "\n",
      "{\"query\": \"latest news Jaipur\", \"follow_up_questions\": null, \"answer\": null, \"images\": [], \"results\": [{\"url\": \"https://www.face2news.com/news/101303-agriculture-minister-meena-raids-fertilizer-warehouse-in-suratgarh.aspx\", \"title\": \"AGRICULTURE MINISTER MEENA RAIDS FERTILIZER WAREHOUSE IN SURATGARH - Face2News\", \"score\": 0.46832922, \"published_date\": \"Tue, 24 Jun 2025 05:02:00 GMT\", \"content\": \"• CM ISSUES STRICT DIRECTIVES TO CURB ILLEGAL MINING, CCTV SURVEILLANCE TO BE ENSURED IN MINING AREAS • WORLD WALK IMMIGRATION CONSULTANT OWNER, OTHERS BOOKED ON CHEATING 12.23 LAKH FROM GURDASPUR RESIDENT FOR NOT SENDING ABROAD • FARMERS ORGANISED A “SUBUDDHI YAGYA” AT MAHARAJA GANGA SINGH MEMORIAL NEAR GANG CANAL’S SHIVPUR HEADWORKS. • AGRICULTURE MINISTER MEENA RAIDS FERTILIZER WAREHOUSE IN SURATGARH • KAUSHIK’S TON LIFTS LEISURE ZONE • PETROL DEALERS RAISE CONCERNS OVER ALLEGED HARASSMENT [...] TANTIA DENTAL COLLEGE GRANTED RECOGNITIONHUNDRED DAUGHTERS BECOME BRAHMA KUMARISSAPTA SHAKTI COMMAND COMMEMORATES 11TH INTERNATIONAL DAY OF YOGASAMPLES OF MANY HIMACHAL DRUG COMPANIES FAILED, ORDERS ISSUED TO RECALL STOCK FROM MARKETDELHI CRIME BRANCH BUSTED FAKE DEGREE RACKET. FIVE ARRESTED WITH HUNDREDS OF FAKE DOCUMENTS RECOVEREDCBI SUCCESSFULLY COORDINATES RETURN OF FAKE CURRENCY CASE ACCUSED MOIDEENABBA UMMER BEARY FROM UAECBI CRACKS DOWN ON RS. 183 CRORE FAKE BANK GUARANTEE SCAM; ARRESTS\", \"raw_content\": null}, {\"url\": \"https://www.shiksha.com/news/science-rajasthan-jet-2025-admit-card-live-update-blogId-203790\", \"title\": \"Rajasthan JET 2025 Admit Card (OUT) Live Update: Exam on June 29, JET hall ticket link here - Shiksha\", \"score\": 0.26093096, \"published_date\": \"Tue, 24 Jun 2025 05:53:00 GMT\", \"content\": \"Damini AggarwalJun 24, 2025\\n\\nImage 15: TS LAWCET, PGLCET 2025 Result & Fina\\n\\n### UPTAC Counselling 2025 Registration Ends on June 30; Check Complete Counselling Schedule Here\\n\\nSanjana SurbhiJun 24, 2025\\n\\nImage 16: UPTAC Counselling 2025 Registration \\n\\n### LIVE BITSAT 2025 June 24 Exam Live Updates: Slot 1 (STARTS), Check Paper Analysis, Difficulty Level Here\\n\\nUPASANA PRADHANJun 24, 2025\\n\\nImage 17: BITSAT 2025 June 24 Exam Live Update\\n\\n1 Comment \\n\\nView all News & UpdatesImage 18: arrow [...] Ishita ChauhanJun 21, 2025\\n\\nImage 10: Rajasthan JET 2025 Admit Card to be \\n\\n### Rajasthan JET 2025 Application Window Closing Tomorrow: How to Apply and Other Details\\n\\nIshita ChauhanMay 27, 2025\\n\\nImage 11: Rajasthan JET 2025 Application Windo\\n\\n### Rajasthan JET 2025 Registration Begins Today: Check Important Dates and Complete Schedule\\n\\nIshita ChauhanApr 30, 2025\\n\\nImage 12: Rajasthan JET 2025 Registration Begi\\n\\n1 Comment \\n\\nLatest News\\n----------- [...] Report;)\\n\\n- [x] \\n\\nRohit Kumar\\n\\nReply to Rohit kumar\\n\\nN\\n\\nNeeraj Meena\\n4 hours ago\\n\\nReport;)\\n\\n- [x] \\n\\nGangapur city\\n\\nReply to Neeraj Meena\\n\\nR\\n\\nRajkumar Meena\\n4 hours ago\\n\\nReport;)\\n\\n- [x] \\n\\nRajkumar meena\\n\\nRelated News\\n------------\\n\\n### Rajasthan JET 2025 Admit Card Out!: Download Link Available\\n\\nIshita ChauhanJun 24, 2025\\n\\nImage 9: Rajasthan JET 2025 Admit Card Out!: \\n\\n### Rajasthan JET 2025 Admit Card to be Released on June 24: Check Steps to Download and Other Details\", \"raw_content\": null}, {\"url\": \"https://www.moneycontrol.com/education/rajasthan-jet-admit-card-2025-released-at-jetskrau2025-com-exam-on-june-29-jet-hall-ticket-link-here-article-13167770.html\", \"title\": \"Rajasthan JET Admit Card 2025 released at jetskrau2025.com: Exam on June 29, JET hall ticket link here - Moneycontrol\", \"score\": 0.20774499, \"published_date\": \"Tue, 24 Jun 2025 04:32:21 GMT\", \"content\": \"Home Loans up to 50 Lakhs Credit Cards Lifetime Free Finance TrackerNew Fixed Deposits Fixed Deposit Comparison Fixed Income\\n\\n##### Mutual Funds\\n\\nHome MC 30 Top Ranked Funds ETFs Mutual Fund Screener\\n\\n##### Tools\\n\\nIncome Tax Calculator EMI Calculator Retirement Planning Gratuity Calculator\\n\\n##### Community\\n\\nStock Markets\\n\\n##### Network 18 Sites\\n\\nNews18 Firstpost CNBC TV18 News18 Hindi Cricketnext Overdrive\\n\\n##### Quick Links [...] Rajni Pandey\\n\\nDiscover the latest Business News, Budget 2025 News, Sensex, and Nifty updates. Obtain Personal Finance insights, tax queries, and expert opinions on Moneycontrol or download the Moneycontrol App to stay updated!\\n\\n### Trending news\\n\\n'Google creates stress, God releases it': IIT batchmate-turned monk on meeting Sundar Pichai\\nmoneycontrol\\nFacebook\\ntwitter\\ninstagram\\nlinkedin\\ntelegram\\nyoutube\\n\\n##### Trending Topics\", \"raw_content\": null}], \"response_time\": 1.28}\n"
     ]
    }
   ],
   "source": [
    "for i in response['messages']:\n",
    "    i.pretty_print() "
   ]
  },
  {
   "cell_type": "code",
   "execution_count": 62,
   "id": "0959e2fe",
   "metadata": {},
   "outputs": [
    {
     "name": "stdout",
     "output_type": "stream",
     "text": [
      "================================\u001b[1m Human Message \u001b[0m=================================\n",
      "\n",
      "What is 5 add 2\n",
      "==================================\u001b[1m Ai Message \u001b[0m==================================\n",
      "Tool Calls:\n",
      "  addition (jcmagshp4)\n",
      " Call ID: jcmagshp4\n",
      "  Args:\n",
      "    a: 5\n",
      "    b: 2\n",
      "=================================\u001b[1m Tool Message \u001b[0m=================================\n",
      "Name: addition\n",
      "\n",
      "7\n"
     ]
    }
   ],
   "source": [
    "response = graph.invoke({\"messages\":\"What is 5 add 2\"})\n",
    "for i in response['messages']:\n",
    "    i.pretty_print()"
   ]
  },
  {
   "cell_type": "code",
   "execution_count": 63,
   "id": "e966bd25",
   "metadata": {},
   "outputs": [
    {
     "name": "stdout",
     "output_type": "stream",
     "text": [
      "================================\u001b[1m Human Message \u001b[0m=================================\n",
      "\n",
      "Give me the recent ai news and then add 5 to 10\n",
      "==================================\u001b[1m Ai Message \u001b[0m==================================\n",
      "Tool Calls:\n",
      "  tavily_search (59sbz0a78)\n",
      " Call ID: 59sbz0a78\n",
      "  Args:\n",
      "    query: recent ai news\n",
      "    search_depth: advanced\n",
      "    time_range: day\n",
      "    topic: news\n",
      "  addition (0gy89cfws)\n",
      " Call ID: 0gy89cfws\n",
      "  Args:\n",
      "    a: 5\n",
      "    b: 10\n",
      "=================================\u001b[1m Tool Message \u001b[0m=================================\n",
      "Name: tavily_search\n",
      "\n",
      "{\"query\": \"recent ai news\", \"follow_up_questions\": null, \"answer\": null, \"images\": [], \"results\": [{\"url\": \"https://www.infosecurity-magazine.com/opinions/ai-priorities-cybersecurity-leaders/\", \"title\": \"Leading at the Speed of Algorithms: Immediate AI Priorities for Cybers - Infosecurity Magazine\", \"score\": 0.75831425, \"published_date\": \"Mon, 23 Jun 2025 11:00:00 GMT\", \"content\": \"### Researchers Warn of 'Living off AI' Attacks After PoC Exploits Atlassian's AI Agent Protocol\\n\\nNews19 Jun 2025\\n\\n1\\n\\n### Russia Expert Falls Prey to Elite Hackers Disguised as US Officials\\n\\nNews20 Jun 2025\\n\\n2\\n\\n### NIST Publishes New Zero Trust Implementation Guidance\\n\\nNews12 Jun 2025\\n\\n3\\n\\n### Ransomware Group Qilin Offers Legal Counsel to Affiliates\\n\\nNews18 Jun 2025\\n\\n4\\n\\n### Reimagining the SOC: From Reactive to Resilient\\n\\nWebinar17 Jun 2025\\n\\n5 [...] Blog1 Feb 2023   \\n3.   ### The Ursala of AI Wants Your Voice\\n\\nOpinion25 Apr 2025   \\n4.   ### How to Navigate the Risks of Generative AI\\n\\nOpinion19 Apr 2024   \\n5.   ### The People Hacker: AI a Game-Changer in Social Engineering Attacks\\n\\nNews2 Nov 2023   \\n\\nWhat’s hot on Infosecurity Magazine?\\n------------------------------------\\n\\n   Read\\n   Shared\\n   Watched\\n   Editor's Choice\\n\\n### Researchers Warn of 'Living off AI' Attacks After PoC Exploits Atlassian's AI Agent Protocol\\n\\nNews19 Jun 2025\\n\\n1 [...] ### Hacklink Marketplace Fuels Surge in Covert SEO Poisoning Attacks\\n\\nNews17 Jun 2025\\n\\n2\\n\\n### M&S and Co-op Hacks Classified as Single Cyber Event\\n\\nNews20 Jun 2025\\n\\n3\\n\\n### GodFather Malware Upgraded to Hijack Legitimate Mobile Apps\\n\\nNews18 Jun 2025\\n\\n4\\n\\n### Russia Expert Falls Prey to Elite Hackers Disguised as US Officials\\n\\nNews20 Jun 2025\\n\\n5\\n\\n### AI Now Generates Majority of Spam and Malicious Emails\\n\\nNews18 Jun 2025\\n\\n6\", \"raw_content\": null}, {\"url\": \"https://www.businessinsider.com/tech-leaders-genai-increased-hiring-teams-2025-6\", \"title\": \"Tech leaders expect GenAI will lead them to increase the size of their teams - Business Insider\", \"score\": 0.6824261, \"published_date\": \"Mon, 23 Jun 2025 16:27:00 GMT\", \"content\": \"The possibility of increased demand for tech talent is welcome news after years of industry layoffs and following recent comments from high-profile tech CEOs, including Amazon's Andy Jassy, who warn that AI is coming for some jobs.\\n\\nThe newly released findings from Deloitte are based on a March survey of some 600 chief information officers, CTOs, and other tech leaders. In it, 69% of tech leaders said they planned to boost their team's size because of GenAI. [...] # A surprising number of tech leaders think AI will mean more hiring for their teams\\n\\nTwo tech workers in an office type on keyboards in front of laptops and computer monitors.\\n\\nTech workers, take heart — artificial intelligence might actually be good for your job prospects.\\n\\nIn a recent survey, nearly seven in 10 tech leaders said they planned to increase the number of people on their teams because of the expansion of generative AI.\", \"raw_content\": null}, {\"url\": \"https://gizmodo.com/goldman-sachs-makes-a-huge-ai-bet-2000619276\", \"title\": \"Goldman Sachs Makes a Huge AI Bet - Gizmodo\", \"score\": 0.650934, \"published_date\": \"Mon, 23 Jun 2025 21:45:56 GMT\", \"content\": \"Image 9: DeepSeek iPhone AppTech News Artificial Intelligence The International DeepSeek Crackdown Is Underway ------------------------------------------------ Italy, Taiwan, and others are already raising security concerns over the Chinese AI model and issuing bans. By AJ Dellinger Published January 31, 2025 [...] Image 8: Photo: Celia OngTech News Artificial Intelligence California Wants AI Chatbots to Remind Users They Aren’t People --------------------------------------------------------------- The proposed law is designed to protect kids from becoming socially isolated. By AJ Dellinger Published February 4, 2025 [...] Image 7: President Donald Trump tries to silence his phone during a press conference in the Oval Office of the White House May 23, 2025 in Washington, DC.Tech News Artificial Intelligence The Trump Administration Is Launching an AI Chatbot --------------------------------------------------- No word on whether it'll speak like Trump. By AJ Dellinger Published June 10, 2025\", \"raw_content\": null}], \"response_time\": 1.44}\n",
      "=================================\u001b[1m Tool Message \u001b[0m=================================\n",
      "Name: addition\n",
      "\n",
      "15\n"
     ]
    }
   ],
   "source": [
    "response=graph.invoke({\"messages\":\"Give me the recent ai news and then add 5 to 10\"})\n",
    "for m in response['messages']:\n",
    "    m.pretty_print()"
   ]
  },
  {
   "cell_type": "markdown",
   "id": "4218be0a",
   "metadata": {},
   "source": [
    "In LangGraph, a ReAct (Reasoning and Acting) agent architecture combines a Large Language Model (LLM) with the ability to reason, act, and observe its environment, enabling it to solve complex tasks and utilize external tools. The ReAct pattern allows the agent to dynamically adjust its approach based on new information and results from previous steps, similar to how humans solve problems. \n",
    "Here's a breakdown of the key concepts:\n",
    "1. ReAct Framework: \n",
    "Reasoning:\n",
    "The LLM uses its reasoning capabilities to determine the next course of action.\n",
    "Acting:\n",
    "The agent can call tools, such as web searches or APIs, to gather information or perform actions.\n",
    "Observing:\n",
    "The agent analyzes the results of its actions to refine its reasoning and determine the next step.\n",
    "2. LangGraph Implementation:\n",
    "Graph Structure:\n",
    "LangGraph uses a graph-based structure to represent the agent's workflow. Nodes in the graph represent different states or actions, and edges represent the transitions between them. \n",
    "State Management:\n",
    "The \"state\" feature in LangGraph acts as a memory bank, recording the agent's history and context throughout the process. \n",
    "Tool Calling:\n",
    "LangGraph provides tools for integrating various tools into the agent, including prebuilt LangChain tools like Wikipedia or DuckDuckGo, or custom-built tools. \n",
    "Conditional Edges:\n",
    "Edges can be conditional, allowing the agent to branch based on the results of previous steps and choose the appropriate next action. \n",
    "3. How it Works:\n",
    "The agent starts with an initial input and a reasoning phase. \n",
    "The LLM generates a thought, an action, and potentially a tool call based on the input and current state. \n",
    "The agent executes the action, potentially using a tool. \n",
    "The agent observes the results and updates its state. \n",
    "The agent repeats the reasoning, acting, and observing cycle until it reaches a conclusion or a predefined stopping condition. "
   ]
  },
  {
   "cell_type": "markdown",
   "id": "2d6f5550",
   "metadata": {},
   "source": [
    "ReACT Agent Architecture"
   ]
  },
  {
   "cell_type": "code",
   "execution_count": 64,
   "id": "97518542",
   "metadata": {},
   "outputs": [
    {
     "data": {
      "image/png": "[encoded data removed]",
      "text/plain": [
       "<IPython.core.display.Image object>"
      ]
     },
     "metadata": {},
     "output_type": "display_data"
    }
   ],
   "source": [
    "## Stategraph\n",
    "from langgraph.graph import StateGraph,START,END\n",
    "from langgraph.prebuilt import ToolNode\n",
    "from langgraph.prebuilt import tools_condition\n",
    "\n",
    "## Node definition\n",
    "def tool_calling_llm(state:State):\n",
    "    return {\"messages\":[llm_with_tool.invoke(state[\"messages\"])]}\n",
    "\n",
    "## Grpah\n",
    "builder=StateGraph(State)\n",
    "builder.add_node(\"tool_calling_llm\",tool_calling_llm)\n",
    "builder.add_node(\"tools\",ToolNode(tools))\n",
    "\n",
    "## Add Edges\n",
    "builder.add_edge(START, \"tool_calling_llm\")\n",
    "builder.add_conditional_edges(\n",
    "    \"tool_calling_llm\",\n",
    "    # If the latest message (result) from assistant is a tool call -> tools_condition routes to tools\n",
    "    # If the latest message (result) from assistant is a not a tool call -> tools_condition routes to END\n",
    "    tools_condition\n",
    ")\n",
    "builder.add_edge(\"tools\",\"tool_calling_llm\")\n",
    "\n",
    "## compile the graph\n",
    "graph=builder.compile()\n",
    "\n",
    "from IPython.display import Image, display\n",
    "display(Image(graph.get_graph().draw_mermaid_png()))"
   ]
  },
  {
   "cell_type": "markdown",
   "id": "8df72df8",
   "metadata": {},
   "source": [
    "Adding Memory in Agent Graph"
   ]
  },
  {
   "cell_type": "code",
   "execution_count": 65,
   "id": "0b009717",
   "metadata": {},
   "outputs": [
    {
     "name": "stdout",
     "output_type": "stream",
     "text": [
      "================================\u001b[1m Human Message \u001b[0m=================================\n",
      "\n",
      "Hello my name is Saurabh\n",
      "==================================\u001b[1m Ai Message \u001b[0m==================================\n",
      "\n",
      "Nice to meet you, Saurabh!\n"
     ]
    }
   ],
   "source": [
    "response = graph.invoke({\"messages\":\"Hello my name is Saurabh\"})\n",
    "for i in response['messages']:\n",
    "    i.pretty_print() "
   ]
  },
  {
   "cell_type": "code",
   "execution_count": 66,
   "id": "b7e3a52c",
   "metadata": {},
   "outputs": [
    {
     "data": {
      "image/png": "[encoded data removed]",
      "text/plain": [
       "<IPython.core.display.Image object>"
      ]
     },
     "metadata": {},
     "output_type": "display_data"
    }
   ],
   "source": [
    "## Stategraph\n",
    "from langgraph.graph import StateGraph,START,END\n",
    "from langgraph.prebuilt import ToolNode\n",
    "from langgraph.prebuilt import tools_condition\n",
    "from langgraph.checkpoint.memory import MemorySaver\n",
    "\n",
    "memory = MemorySaver()\n",
    "\n",
    "## Node definition\n",
    "def tool_calling_llm(state:State):\n",
    "    return {\"messages\":[llm_with_tool.invoke(state[\"messages\"])]}\n",
    "\n",
    "## Grpah\n",
    "builder=StateGraph(State)\n",
    "builder.add_node(\"tool_calling_llm\",tool_calling_llm)\n",
    "builder.add_node(\"tools\",ToolNode(tools))\n",
    "\n",
    "## Add Edges\n",
    "builder.add_edge(START, \"tool_calling_llm\")\n",
    "builder.add_conditional_edges(\n",
    "    \"tool_calling_llm\",\n",
    "    # If the latest message (result) from assistant is a tool call -> tools_condition routes to tools\n",
    "    # If the latest message (result) from assistant is a not a tool call -> tools_condition routes to END\n",
    "    tools_condition\n",
    ")\n",
    "builder.add_edge(\"tools\",\"tool_calling_llm\")\n",
    "\n",
    "## compile the graph\n",
    "graph=builder.compile(checkpointer=memory)\n",
    "\n",
    "from IPython.display import Image, display\n",
    "display(Image(graph.get_graph().draw_mermaid_png()))"
   ]
  },
  {
   "cell_type": "code",
   "execution_count": 67,
   "id": "455a10b0",
   "metadata": {},
   "outputs": [
    {
     "data": {
      "text/plain": [
       "{'messages': [HumanMessage(content='Hi my name is Saurabh', additional_kwargs={}, response_metadata={}, id='92204e75-8218-4806-b0ad-82da7a7a48bf'),\n",
       "  AIMessage(content='Nice to meet you, Saurabh!', additional_kwargs={}, response_metadata={'token_usage': {'completion_tokens': 10, 'prompt_tokens': 2194, 'total_tokens': 2204, 'completion_time': 0.014277301, 'prompt_time': 0.295338249, 'queue_time': 0.28484948699999996, 'total_time': 0.30961555}, 'model_name': 'llama3-8b-8192', 'system_fingerprint': 'fp_8b7c3a83f7', 'finish_reason': 'stop', 'logprobs': None}, id='run--bef9cd1d-6839-4448-8dca-29308e72f5d3-0', usage_metadata={'input_tokens': 2194, 'output_tokens': 10, 'total_tokens': 2204})]}"
      ]
     },
     "execution_count": 67,
     "metadata": {},
     "output_type": "execute_result"
    }
   ],
   "source": [
    "config = {\"configurable\":{\"thread_id\":\"1\"}} \n",
    "response = graph.invoke({\"messages\":\"Hi my name is Saurabh\"} , config = config) \n",
    "response "
   ]
  },
  {
   "cell_type": "code",
   "execution_count": 68,
   "id": "0a019be7",
   "metadata": {},
   "outputs": [
    {
     "data": {
      "text/plain": [
       "'Nice to meet you, Saurabh!'"
      ]
     },
     "execution_count": 68,
     "metadata": {},
     "output_type": "execute_result"
    }
   ],
   "source": [
    "response['messages'][-1].content"
   ]
  },
  {
   "cell_type": "code",
   "execution_count": 69,
   "id": "8b76d353",
   "metadata": {},
   "outputs": [
    {
     "name": "stdout",
     "output_type": "stream",
     "text": [
      "Your name is Saurabh.\n"
     ]
    }
   ],
   "source": [
    "response=graph.invoke({\"messages\":\"Hey what is my name\"},config=config)\n",
    "\n",
    "print(response['messages'][-1].content)"
   ]
  },
  {
   "cell_type": "code",
   "execution_count": 70,
   "id": "935d9fbc",
   "metadata": {},
   "outputs": [
    {
     "name": "stdout",
     "output_type": "stream",
     "text": [
      "I remember, your name is Saurabh.\n"
     ]
    }
   ],
   "source": [
    "response=graph.invoke({\"messages\":\"Hey do you remember my name\"},config=config)\n",
    "\n",
    "print(response['messages'][-1].content)"
   ]
  },
  {
   "cell_type": "markdown",
   "id": "cf1a5d10",
   "metadata": {},
   "source": [
    "Streaming "
   ]
  },
  {
   "cell_type": "code",
   "execution_count": 71,
   "id": "b262a9fb",
   "metadata": {},
   "outputs": [],
   "source": [
    "from langgraph.checkpoint.memory import MemorySaver \n",
    "memory = MemorySaver() "
   ]
  },
  {
   "cell_type": "code",
   "execution_count": 72,
   "id": "42e602a3",
   "metadata": {},
   "outputs": [],
   "source": [
    "def superbot(state:State):\n",
    "    return {\"messages\":[llm.invoke(state['messages'])]}"
   ]
  },
  {
   "cell_type": "code",
   "execution_count": 73,
   "id": "59818ec6",
   "metadata": {},
   "outputs": [
    {
     "data": {
      "image/png": "[encoded data removed]",
      "text/plain": [
       "<IPython.core.display.Image object>"
      ]
     },
     "metadata": {},
     "output_type": "display_data"
    }
   ],
   "source": [
    "graph=StateGraph(State)\n",
    "\n",
    "## node\n",
    "graph.add_node(\"SuperBot\",superbot)\n",
    "## Edges\n",
    "\n",
    "graph.add_edge(START,\"SuperBot\")\n",
    "graph.add_edge(\"SuperBot\",END)\n",
    "\n",
    "\n",
    "graph_builder=graph.compile(checkpointer=memory)\n",
    "\n",
    "\n",
    "## Display\n",
    "from IPython.display import Image, display\n",
    "display(Image(graph_builder.get_graph().draw_mermaid_png()))"
   ]
  },
  {
   "cell_type": "code",
   "execution_count": 74,
   "id": "649ebfd6",
   "metadata": {},
   "outputs": [
    {
     "data": {
      "text/plain": [
       "{'messages': [HumanMessage(content='Hi,My name is Saurabh And I like cricket', additional_kwargs={}, response_metadata={}, id='1874bcc7-3cb7-47c1-a293-4a219c6eeb4c'),\n",
       "  AIMessage(content=\"Nice to meet you, Saurabh! Cricket is a fantastic sport, isn't it? Which team do you support? Are you a fan of any particular player or a specific format of the game (Test, ODI, T20)?\", additional_kwargs={}, response_metadata={'token_usage': {'completion_tokens': 50, 'prompt_tokens': 22, 'total_tokens': 72, 'completion_time': 0.048734633, 'prompt_time': 0.005914812, 'queue_time': 0.466533907, 'total_time': 0.054649445}, 'model_name': 'llama3-8b-8192', 'system_fingerprint': 'fp_8dc6ecaf8e', 'finish_reason': 'stop', 'logprobs': None}, id='run--fbdda778-ecca-4993-b9cf-4eaacb7c02af-0', usage_metadata={'input_tokens': 22, 'output_tokens': 50, 'total_tokens': 72})]}"
      ]
     },
     "execution_count": 74,
     "metadata": {},
     "output_type": "execute_result"
    }
   ],
   "source": [
    "## Invocation\n",
    "\n",
    "config = {\"configurable\": {\"thread_id\": \"1\"}}\n",
    "\n",
    "graph_builder.invoke({'messages':\"Hi,My name is Saurabh And I like cricket\"},config)"
   ]
  },
  {
   "cell_type": "code",
   "execution_count": 75,
   "id": "a8e31950",
   "metadata": {},
   "outputs": [
    {
     "name": "stdout",
     "output_type": "stream",
     "text": [
      "{'SuperBot': {'messages': [AIMessage(content=\"Nice to meet you, Saurabh! Cricket is a fantastic sport, isn't it? Who's your favorite team or player? Do you have a favorite memory or moment from a cricket match that's stuck with you?\", additional_kwargs={}, response_metadata={'token_usage': {'completion_tokens': 46, 'prompt_tokens': 22, 'total_tokens': 68, 'completion_time': 0.062878763, 'prompt_time': 0.008105648, 'queue_time': 0.282184501, 'total_time': 0.070984411}, 'model_name': 'llama3-8b-8192', 'system_fingerprint': 'fp_8b7c3a83f7', 'finish_reason': 'stop', 'logprobs': None}, id='run--4f4c616d-de3a-4739-9c23-d235a1cf7dea-0', usage_metadata={'input_tokens': 22, 'output_tokens': 46, 'total_tokens': 68})]}}\n"
     ]
    }
   ],
   "source": [
    "# Create a thread\n",
    "config = {\"configurable\": {\"thread_id\": \"3\"}}\n",
    "\n",
    "for chunk in graph_builder.stream({'messages':\"Hi,My name is Saurabh And I like cricket\"},config,stream_mode=\"updates\"):\n",
    "    print(chunk)"
   ]
  },
  {
   "cell_type": "code",
   "execution_count": null,
   "id": "686eba57",
   "metadata": {},
   "outputs": [],
   "source": []
  }
 ],
 "metadata": {
  "kernelspec": {
   "display_name": ".venv",
   "language": "python",
   "name": "python3"
  },
  "language_info": {
   "codemirror_mode": {
    "name": "ipython",
    "version": 3
   },
   "file_extension": ".py",
   "mimetype": "text/x-python",
   "name": "python",
   "nbconvert_exporter": "python",
   "pygments_lexer": "ipython3",
   "version": "3.12.10"
  }
 },
 "nbformat": 4,
 "nbformat_minor": 5
}
